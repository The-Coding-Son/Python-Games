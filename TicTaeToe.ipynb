{
 "cells": [
  {
   "cell_type": "code",
   "execution_count": 1,
   "id": "292d8daf",
   "metadata": {},
   "outputs": [],
   "source": [
    "#Global array\n",
    "a=['','1','2','3','4','5','6','7','8','9']\n",
    "\n",
    "#displaying information\n",
    "from IPython.display import clear_output \n",
    "def display_board():\n",
    "    print(\"     |     |     \")\n",
    "    print(\"  \"+a[1]+\"  |  \"+a[2]+\"  |  \"+a[3]+\"  \")\n",
    "    print(\"-----+-----+------\")\n",
    "    print(\"  \"+a[4\n",
    "                ]+\"  |  \"+a[5]+\"  |  \"+a[6]+\"  \")\n",
    "    print(\"-----+-----+------     \")\n",
    "    print(\"  \"+a[7]+\"  |  \"+a[8]+\"  |  \"+a[9]+\"  \")\n",
    "    print(\"     |     |     \")"
   ]
  },
  {
   "cell_type": "code",
   "execution_count": 2,
   "id": "48a93d64",
   "metadata": {},
   "outputs": [],
   "source": [
    "import time\n",
    "import sys\n",
    "play1=\"\"\n",
    "play2=\"\"\n",
    "turn=\"Player One\"\n",
    "def choice_of_player():\n",
    "    play1=input(\"PLayer One, What is your choice? (Valid Inputs: X or O) :->\")\n",
    "    play1=play1.upper()\n",
    "    if(play1 !=\"X\" and play1!=\"O\"):\n",
    "        print(\"Invalid Choice!!!\")\n",
    "        \n",
    "    if(play1==\"X\"):\n",
    "        print(\"You are playing first and Player Two will be playing second\",end=\"\")\n",
    "        sys.stdout.flush()\n",
    "        time.sleep(5)\n",
    "        clear_output()\n",
    "        r=input(\"\\rLets GO\")\n",
    "    if(play1==\"O\"):\n",
    "        print(\"You are playing second and Player Two will be playing first\",end=\"\")\n",
    "        sys.stdout.flush()\n",
    "        time.sleep(5)\n",
    "        clear_output()\n",
    "        turn=\"PLayer Two\"\n",
    "        m=input(\"\\rLets GO\")\n"
   ]
  },
  {
   "cell_type": "code",
   "execution_count": 3,
   "id": "97678c1d",
   "metadata": {},
   "outputs": [],
   "source": [
    "def checkforwin():\n",
    "    if(a[1]==a[2] and a[2]==a[3]):\n",
    "        return True\n",
    "    if(a[4]==a[5] and a[5]==a[6]):\n",
    "        return True\n",
    "    if(a[7]==a[8] and a[8]==a[9]):\n",
    "        return True\n",
    "    if(a[1]==a[4] and a[4]==a[7]):\n",
    "        return True\n",
    "    if(a[2]==a[5] and a[5]==a[8]):\n",
    "        return True\n",
    "    if(a[3]==a[6] and a[6]==a[9]):\n",
    "        return True\n",
    "    if(a[1]==a[5] and a[5]==a[9]):\n",
    "        return True\n",
    "    if(a[3]==a[5] and a[5]==a[7]):\n",
    "        return True \n",
    "    else:\n",
    "        return False"
   ]
  },
  {
   "cell_type": "code",
   "execution_count": 4,
   "id": "5f76a8c4",
   "metadata": {
    "scrolled": true
   },
   "outputs": [
    {
     "ename": "SyntaxError",
     "evalue": "invalid syntax (368085469.py, line 1)",
     "output_type": "error",
     "traceback": [
      "\u001b[1;36m  Input \u001b[1;32mIn [4]\u001b[1;36m\u001b[0m\n\u001b[1;33m    boolean possibility_of_win(t):\u001b[0m\n\u001b[1;37m            ^\u001b[0m\n\u001b[1;31mSyntaxError\u001b[0m\u001b[1;31m:\u001b[0m invalid syntax\n"
     ]
    }
   ],
   "source": []
  },
  {
   "cell_type": "code",
   "execution_count": 4,
   "id": "a1c02c1a",
   "metadata": {},
   "outputs": [],
   "source": [
    "#incomplete\n",
    "\n",
    "def gameplay():\n",
    "  \n",
    "    while True:\n",
    "        #gameplayOFx\n",
    "        display_board()\n",
    "        \n",
    "        print(\"Play for X\")\n",
    "        x=input(\"Enter Valid Available position for X:\")\n",
    "        \n",
    "        a[int(x)]='X'\n",
    "        if(checkforwin()):\n",
    "            display_board()\n",
    "            print(\"You know what that means\")\n",
    "            print(\".\"*5)\n",
    "            time.sleep(5)\n",
    "            print(\"Hip Hip Hurray! \"+turn+\" won\")\n",
    "            time.sleep(2)\n",
    "            clear_output()\n",
    "            break\n",
    "         #gameplayOFo\n",
    "        else:\n",
    "            turn=\"PLayer Two\"\n",
    "            clear_output()\n",
    "        display_board()\n",
    "        \n",
    "        y=input(\"Enter Valid Available position for O:\")\n",
    "        \n",
    "        a[int(y)]='O'\n",
    "        if(checkforwin()):\n",
    "            display_board()\n",
    "            print(\"You know what that means\")\n",
    "            print(\".\"*5)\n",
    "            time.sleep(5)\n",
    "            print(\"Hip Hip Hurray! \"+turn+\" won\")\n",
    "            time.sleep(2)\n",
    "            clear_output()\n",
    "            break \n",
    "        else:\n",
    "            turn=\"Player One\"\n",
    "            clear_output()\n",
    "    "
   ]
  },
  {
   "cell_type": "code",
   "execution_count": 5,
   "id": "f428f8a5",
   "metadata": {},
   "outputs": [],
   "source": [
    "def tictactoe():\n",
    "    turncount=0\n",
    "    p=input(\"Do you want to start the game: (Y OR N) \")\n",
    "    while(p==\"Y\"):\n",
    "    \n",
    "        display_board()\n",
    "        choice_of_player()\n",
    "        \n",
    "        clear_output()\n",
    "        gameplay()\n",
    "        p=input(\"Do you want to start the game: (Y OR N) \")\n",
    "        \n",
    "    clear_output()\n",
    "    print(\"Thank you for playing\")"
   ]
  },
  {
   "cell_type": "code",
   "execution_count": 9,
   "id": "2570fceb",
   "metadata": {},
   "outputs": [
    {
     "name": "stdout",
     "output_type": "stream",
     "text": [
      "Thank you for playing\n"
     ]
    }
   ],
   "source": [
    "\n",
    "\n",
    "tictactoe()"
   ]
  },
  {
   "cell_type": "code",
   "execution_count": null,
   "id": "22b1be0f",
   "metadata": {},
   "outputs": [],
   "source": []
  },
  {
   "cell_type": "code",
   "execution_count": null,
   "id": "2a5d4278",
   "metadata": {},
   "outputs": [],
   "source": []
  },
  {
   "cell_type": "code",
   "execution_count": null,
   "id": "0dbd4d8b",
   "metadata": {},
   "outputs": [],
   "source": []
  }
 ],
 "metadata": {
  "kernelspec": {
   "display_name": "Python 3 (ipykernel)",
   "language": "python",
   "name": "python3"
  },
  "language_info": {
   "codemirror_mode": {
    "name": "ipython",
    "version": 3
   },
   "file_extension": ".py",
   "mimetype": "text/x-python",
   "name": "python",
   "nbconvert_exporter": "python",
   "pygments_lexer": "ipython3",
   "version": "3.9.12"
  }
 },
 "nbformat": 4,
 "nbformat_minor": 5
}
